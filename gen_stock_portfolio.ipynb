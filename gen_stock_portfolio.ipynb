{
  "nbformat": 4,
  "nbformat_minor": 0,
  "metadata": {
    "colab": {
      "provenance": []
    },
    "kernelspec": {
      "name": "python3",
      "display_name": "Python 3"
    },
    "language_info": {
      "name": "python"
    }
  },
  "cells": [
    {
      "cell_type": "markdown",
      "source": [
        "# Constraint Satisfaction Problem: Personalized Stock Portfolio\n",
        "\n",
        "The rise of retail investors in financial markets has highlighted a need for personalized portfolio guidance. This paper presents a novel algorithm that uses refined approach to the Constraint Satisfaction Problem (CSP) framework to optimize stock portfolio allocations based on individual preferences, such as risk tolerance, return expectations, and sustainability ratings. By modeling stocks as variables, allocations as domains, and financial goals as constraints, we ensure portfolios align with investor objectives. Our approach bridges a gap in CSP literature by addressing portfolio optimization as a resource allocation problem, offering a practical tool for retail investors to make informed decisions and enhance financial inclusion.  \n",
        "\n",
        "**Disclaimer: The content presented in this notebook is for educational and illustrative purposes only. It does not constitute financial advice or a recommendation to buy, sell, or hold any securities or investments.  Investments in financial markets involve risks, including the potential loss of capital.**  \n",
        "\n",
        "**Note**: In order to run this notebook, you will need to upload the associated file with stock data `ST449_Project_DATA.xlsx` to the working directory in Google Colab.\n",
        "_______________________________"
      ],
      "metadata": {
        "id": "bnbK8S8qJd38"
      }
    },
    {
      "cell_type": "markdown",
      "source": [
        "## Install libraries & packages\n",
        "  * `cvxpy`: Solves convex optimization problems. We use this over the `python-constraint` AIMA package because it allows for continuous domains and constraints represented by linear inequalities [(Source)](https://github.com/cvxpy/cvxpy).\n",
        "  * `pandas`: An open source data analysis and manipulation tool [(Source)](https://pandas.pydata.org/).\n",
        "  * `numpy`: Python library used for working with arrays. It also has functions for working in domain of linear algebra, fourier transform, and matrices [(Source)](https://numpy.org/)."
      ],
      "metadata": {
        "id": "fgxyuY-PJivD"
      }
    },
    {
      "cell_type": "code",
      "source": [
        "!pip install cvxpy\n",
        "!pip install pandas\n",
        "!pip install numpy"
      ],
      "metadata": {
        "id": "_OSW3c-b1vmm",
        "colab": {
          "base_uri": "https://localhost:8080/"
        },
        "outputId": "d9a43633-133d-480f-9f60-e3bc68db5cf2"
      },
      "execution_count": null,
      "outputs": [
        {
          "output_type": "stream",
          "name": "stdout",
          "text": [
            "Requirement already satisfied: cvxpy in /usr/local/lib/python3.11/dist-packages (1.6.0)\n",
            "Requirement already satisfied: osqp>=0.6.2 in /usr/local/lib/python3.11/dist-packages (from cvxpy) (0.6.7.post3)\n",
            "Requirement already satisfied: clarabel>=0.5.0 in /usr/local/lib/python3.11/dist-packages (from cvxpy) (0.9.0)\n",
            "Requirement already satisfied: scs>=3.2.4.post1 in /usr/local/lib/python3.11/dist-packages (from cvxpy) (3.2.7.post2)\n",
            "Requirement already satisfied: numpy>=1.20 in /usr/local/lib/python3.11/dist-packages (from cvxpy) (1.26.4)\n",
            "Requirement already satisfied: scipy>=1.1.0 in /usr/local/lib/python3.11/dist-packages (from cvxpy) (1.13.1)\n",
            "Requirement already satisfied: qdldl in /usr/local/lib/python3.11/dist-packages (from osqp>=0.6.2->cvxpy) (0.1.7.post5)\n",
            "Requirement already satisfied: pandas in /usr/local/lib/python3.11/dist-packages (2.2.2)\n",
            "Requirement already satisfied: numpy>=1.23.2 in /usr/local/lib/python3.11/dist-packages (from pandas) (1.26.4)\n",
            "Requirement already satisfied: python-dateutil>=2.8.2 in /usr/local/lib/python3.11/dist-packages (from pandas) (2.8.2)\n",
            "Requirement already satisfied: pytz>=2020.1 in /usr/local/lib/python3.11/dist-packages (from pandas) (2024.2)\n",
            "Requirement already satisfied: tzdata>=2022.7 in /usr/local/lib/python3.11/dist-packages (from pandas) (2024.2)\n",
            "Requirement already satisfied: six>=1.5 in /usr/local/lib/python3.11/dist-packages (from python-dateutil>=2.8.2->pandas) (1.17.0)\n",
            "Requirement already satisfied: numpy in /usr/local/lib/python3.11/dist-packages (1.26.4)\n"
          ]
        }
      ]
    },
    {
      "cell_type": "markdown",
      "source": [
        "## Import packages and data\n",
        "These cells import relevant packages and load the data:\n",
        "- Reads the stock data into a Pandas DataFrame.\n",
        "- Displays the first few rows of the dataset to verify successful loading.\n",
        "- This step ensures the data includes relevant columns such as returns, volatility, and ESG scores."
      ],
      "metadata": {
        "id": "Rh6A16o5JoNc"
      }
    },
    {
      "cell_type": "code",
      "source": [
        "import cvxpy as cp\n",
        "import pandas as pd\n",
        "import numpy as np"
      ],
      "metadata": {
        "id": "e_NQ-VVN13Oq"
      },
      "execution_count": null,
      "outputs": []
    },
    {
      "cell_type": "code",
      "source": [
        "print(\"#\" * 30 + \" IMPORT DATA \" + \"#\" * 30)\n",
        "data = pd.read_excel('GroupB.xlsx')\n",
        "print(data.head())\n",
        "print(\"\\n\" + \"#\" * 70 + \"\\n\")"
      ],
      "metadata": {
        "colab": {
          "base_uri": "https://localhost:8080/"
        },
        "id": "sgKYgz4W16fD",
        "outputId": "4cfdff3a-70b9-4121-d117-60aa2a744aed"
      },
      "execution_count": null,
      "outputs": [
        {
          "output_type": "stream",
          "name": "stdout",
          "text": [
            "############################## IMPORT DATA ##############################\n",
            "           Name    1yret    5yret   10yret  Volatility    Beta   ESG\n",
            "0  1AMZLNEquity  44.9844  44.9844  44.9844    0.951782  0.8733  5.35\n",
            "1  1COILNEquity  39.6407  39.6407  39.6407    5.110986  1.8795  5.78\n",
            "2  1MCSLNEquity  -2.7363  -3.0468  -7.3623    1.307267 -0.2019  4.38\n",
            "3  1PASLNEquity  12.1694  -4.1893 -14.0263    3.630729 -0.6350  4.32\n",
            "4   1SNLNEquity  23.8405  23.8405  23.8405    4.223100  0.4398  5.28\n",
            "\n",
            "######################################################################\n",
            "\n"
          ]
        }
      ]
    },
    {
      "cell_type": "markdown",
      "source": [
        "## Create the PortfolioOptimizer class"
      ],
      "metadata": {
        "id": "geIVMOUhN0sN"
      }
    },
    {
      "cell_type": "code",
      "source": [
        "#Define the class and the __init__ method\n",
        "class PortfolioOptimizer:\n",
        "    def __init__(self, data, preferences=None):\n",
        "        \"\"\"\n",
        "        Initialize the PortfolioOptimizer class.\n",
        "        Args:\n",
        "            data (DataFrame): The input dataset containing stock information.\n",
        "            preferences (dict, optional): User-specified preferences. If None, preferences will be queried.\n",
        "        \"\"\"\n",
        "        self.df = data.reset_index(drop=True)\n",
        "        self.constraints = []\n",
        "        self.w = None\n",
        "        self.solution_weights = None\n",
        "        self.portfolio_metrics = {}\n",
        "\n",
        "        # Set preferences\n",
        "        if preferences is not None:\n",
        "            self.preferences = preferences\n",
        "        else:\n",
        "            self.preferences = {}"
      ],
      "metadata": {
        "id": "GwppiydtN34X"
      },
      "execution_count": null,
      "outputs": []
    },
    {
      "cell_type": "markdown",
      "source": [
        "## Prompt the user for their preferences\n",
        "Below is an interactive prompt that queries the user on their preferences.\n",
        "  * **Investment horizon:** Asks user what their investment horizon is: 1, 5, 10 years\n",
        "  * **Volatility and return**: Asks user what their desired maximum volatility. Based on this risk preference, the program automatically selects a desired return. This is to prevent selection of infeasible constrains, like very low volatility but a very high desired return.\n",
        "  * **Sustainability rating**: Asks user what their preference is on sustainability rating of their portfolio out of 10 and assigns a corresponding ESG minimum based on their preference.\n",
        "    * **Options**: 1 - Low (1-3),  2 - Medium (4-6), 3 - High - (7-10). The max score assignment is 6, as the portfolio fails with a higher ESG constraint.\n",
        "    * ESG scores \"*...are designed to transparently and objectively measure a company's relative ESG performance, commitment and effectiveness across 10 main themes (emissions, environmental product innovation, human rights, shareholders, etc.) based on publicly-reported data.*\" [(Source)](https://www.lseg.com/en/data-analytics/sustainable-finance/esg-scores#methodology).\n",
        "\n",
        "* **Beta**: Asks user how closely they would like the portfolio to follow the market, which sets the Beta value.\n",
        "    * **Options**: 1 - Defensive (Beta ≈ 0.8), 2 - Neutral (Beta ≈ 1), 3 - Aggressive (Beta ≈ 1.2).\n",
        "    * Beta is \"*...a measurement of its volatility of returns relative to the entire market.*\" [(Source)](https://corporatefinanceinstitute.com/resources/valuation/what-is-beta-guide/)."
      ],
      "metadata": {
        "id": "vEePvYbYJ4RA"
      }
    },
    {
      "cell_type": "code",
      "source": [
        "# Extend the PortfolioOptimizer class\n",
        "class PortfolioOptimizer(PortfolioOptimizer):\n",
        "    \"\"\"Extend the class to query preferences from an individual\n",
        "    about their portfolio preferences.\"\"\"\n",
        "\n",
        "    def query_preferences(self):\n",
        "        self.preferences = {}  # Initialize preferences dictionary\n",
        "\n",
        "        # Returns timeline\n",
        "        print(\"How long are you planning to hold this portfolio?\")\n",
        "        print(\"1: Short-Term (1 year return)\")\n",
        "        print(\"2: Medium-Term (5 year return)\")\n",
        "        print(\"3: Long-Term (10 year return)\")\n",
        "        timeline_choice = int(input(\"Enter your choice (1/2/3): \"))\n",
        "        if timeline_choice == 1:\n",
        "            self.preferences['time_horizon'] = '1yret'\n",
        "        elif timeline_choice == 2:\n",
        "            self.preferences['time_horizon'] = '5yret'\n",
        "        else:\n",
        "            self.preferences['time_horizon'] = '10yret'\n",
        "\n",
        "        # Risk tolerance\n",
        "        print(\"How much risk are you comfortable taking?\")\n",
        "        print(\"1: Low (1% volatility, >6% return) - Recommended for long term portfolios\")\n",
        "        print(\"2: Medium (5% volatility, >10% return) - Recommended for medium term portfolios\")\n",
        "        print(\"3: High (10%% volatility, >15% return) - Recommended for short term portfolios\")\n",
        "        risk_choice = int(input(\"Enter your choice (1/2/3): \"))\n",
        "        if risk_choice == 1:\n",
        "            self.preferences['volatility'] = 1\n",
        "            self.preferences['total_return'] = 6\n",
        "        elif risk_choice == 2:\n",
        "            self.preferences['volatility'] = 5\n",
        "            self.preferences['total_return'] = 10\n",
        "        else:\n",
        "            self.preferences['volatility'] = 10\n",
        "            self.preferences['total_return'] = 15\n",
        "\n",
        "        # Beta\n",
        "        print(\"How closely do you want your portfolio to follow the market?\")\n",
        "        print(\"1: Defensive (Beta < 0.8)\")\n",
        "        print(\"2: Neutral (Beta ≈ 1)\")\n",
        "        print(\"3: Aggressive (Beta > 1.2)\")\n",
        "        beta_choice = int(input(\"Enter your choice (1/2/3): \"))\n",
        "        if beta_choice == 1:\n",
        "            self.preferences['beta'] = 0.8\n",
        "        elif beta_choice == 2:\n",
        "            self.preferences['beta'] = 1\n",
        "        else:\n",
        "            self.preferences['beta'] = 1.2\n",
        "\n",
        "        # ESG rating\n",
        "        print(\"How important is sustainability (ESG rating) in your portfolio, on a scale of 1-10?\")\n",
        "        print(\"1: Low (1–3)\")\n",
        "        print(\"2: Medium (4–6)\")\n",
        "        print(\"3: High (7–10)\")\n",
        "        esg_choice = int(input(\"Enter your choice (1/2/3): \"))\n",
        "        if esg_choice == 1:\n",
        "            self.preferences['sustainability'] = 1\n",
        "        elif esg_choice == 2:\n",
        "            self.preferences['sustainability'] = 3\n",
        "        else:\n",
        "            self.preferences['sustainability'] = 6\n",
        "\n",
        "        print(\"\\nYour selected preferences:\")\n",
        "        print(self.preferences)"
      ],
      "metadata": {
        "id": "5pYwAM7goRQi"
      },
      "execution_count": null,
      "outputs": []
    },
    {
      "cell_type": "markdown",
      "source": [
        "## Set up and defining constraints\n",
        "This cell prepares the data and sets up the decision variable for the optimization problem, then defines the constraints based on preferences.\n",
        "\n",
        "### 1. Setting up the weight data frame\n",
        "\n",
        "1. **Extract Key Columns:**\n",
        "   - **`time_horizon_col`:** Extracts the column name based on the user's selected time horizon (e.g., `'10yret'` for 10-year returns).\n",
        "   - **`returns`:** Converts the selected return column into an array to use in calculations.\n",
        "   - **`volatilities`:** Extracts the volatility column as an array.\n",
        "   - **`esgs`:** Extracts the ESG column as an array.\n",
        "   - All three arrays have the same shape, corresponding to the number of stocks included.\n",
        "\n",
        "2. **Determine Number of Stocks:**\n",
        "   - `n = len(df)` computes the number of stocks in the subset, which will be used to define the dimensions of the optimization variable.\n",
        "\n",
        "3. **Define Decision Variable:**\n",
        "   - `w = cp.Variable(n, nonneg=True)` creates a CVXPY variable for the portfolio weights:\n",
        "     - `n` is the number of stocks.\n",
        "     - `nonneg=True` ensures all weights are non-negative.\n",
        "     - Each element of `w` represents the proportion of the portfolio allocated to a specific stock.\n",
        "\n",
        "<br />\n",
        "\n",
        "### 2. Define constraints given the user's preferences\n",
        "\n",
        "Next, we define the constraints for the portfolio optimization problem. Each constraint ensures that the portfolio satisfies specific investor preferences or rules.\n",
        "\n",
        "1. **Initialize Constraints:**\n",
        "   - An empty list `constraints` is created to store all the constraints for the optimization problem.\n",
        "\n",
        "2. **Sum of Weights = 1:**\n",
        "   - `constraints.append(cp.sum(w) == 1)` ensures that the total portfolio allocation equals 100% (i.e., the sum of all weights is 1).\n",
        "\n",
        "3. **Maximum Allocation of Any Single Stock = 10%:**\n",
        "   - `constraints.append(w <= 0.10)` restricts the allocation of any single stock to a maximum of 10% of the total portfolio. This ensures the portfolio is diverse and made up of multiple stocks, rather than one stock being assigned a weight of 1.\n",
        "\n",
        "4. **Minimum Return:**\n",
        "   - `constraints.append(returns @ w >= preferences['total_return'])` ensures that the weighted portfolio return meets or exceeds the required total return specified in the preferences (`preferences['total_return']`).\n",
        "\n",
        "5. **Maximum Volatility:**\n",
        "   - `constraints.append(volatilities @ w <= preferences['volatility'])` ensures that the weighted portfolio volatility remains below the maximum volatility threshold specified in the preferences (`preferences['volatility']`).\n",
        "\n",
        "6. **Minimum ESG:**\n",
        "   - `constraints.append(esgs @ w >= preferences['sustainability'])` ensures that the weighted ESG score of the portfolio meets or exceeds the minimum sustainability score specified in the preferences (`preferences['sustainability']`).\n",
        "\n",
        "### Summary:\n",
        "- These constraints collectively ensure that the portfolio satisfies diversification (via weights), return, risk, and sustainability requirements.\n",
        "- By appending them to the `constraints` list, they are ready to be passed to the optimization solver.\n"
      ],
      "metadata": {
        "id": "CoT8leJxKWnU"
      }
    },
    {
      "cell_type": "code",
      "source": [
        "class PortfolioOptimizer(PortfolioOptimizer):\n",
        "\n",
        "  def extract_data(self):\n",
        "        \"\"\"Extracts data from data based on the user's preferred\n",
        "        method of calculating returns.\"\"\"\n",
        "\n",
        "        # extract numeric data\n",
        "        time_horizon_col = self.preferences['time_horizon']\n",
        "        self.returns = self.df[time_horizon_col].values\n",
        "        self.volatilities = self.df['Volatility'].values\n",
        "        self.esgs = self.df['ESG'].values\n",
        "        self.betas = self.df['Beta'].values\n",
        "\n",
        "        # number of stocks we are including\n",
        "        self.n = len(self.df)\n",
        "\n",
        "        # Define a CVXPY variable for each stock's allocation\n",
        "        self.w = cp.Variable(self.n, nonneg=True)\n",
        "\n",
        "  def setup_constraints(self):\n",
        "      \"\"\"Implements constraints based on previous preferences.\"\"\"\n",
        "      # set-up beta tolerance\n",
        "      beta_tolerance = 0.05\n",
        "\n",
        "      # constraints\n",
        "      self.constraints = [\n",
        "                  cp.sum(self.w) == 1,  # Constraint 1: Sum of weights = 1\n",
        "                  self.w <= 0.10,  # Constraint 2: Max allocation of any stock = 10%\n",
        "                  self.returns @ self.w >= self.preferences['total_return'],  # 3: Satisfies min. return\n",
        "                  self.volatilities @ self.w <= self.preferences['volatility'],  #4:  Satisfies max. volatility\n",
        "                  self.esgs @ self.w >= self.preferences['sustainability'],  # 5: Satisfies min. ESG\n",
        "                  self.betas @ self.w >= self.preferences['beta'] - beta_tolerance,  # 6: Beta range\n",
        "                  self.betas @ self.w <= self.preferences['beta'] + beta_tolerance\n",
        "              ]"
      ],
      "metadata": {
        "id": "A6TkgbAC2aMX"
      },
      "execution_count": null,
      "outputs": []
    },
    {
      "cell_type": "markdown",
      "source": [
        "## Solve the optimization problem and output results\n",
        "  * **`cp.Maximize(returns @ w)`** - This is the objective function used in the problem. In this case, we would like to maximize the weighted returns.\n",
        "  * **`cp.Problem(obj, constraints)`** - Given our objective function and constraints, defined the problem.\n",
        "  * **`prob.solve(solver=cp.GLPK)`** - Solve the problem using the `cp.GLPK` solver.\n",
        "    * GLPK stands for GNU Linear Programming Kit. It is a solver that is well-suited for solving linear programming problems, where both the objective function (maximizing portfolio returns) and constraints (e.g., weights summing to 1) are linear.\n",
        "    * We chose this because support for continuous variables makes it ideal for this problem’s continuous domain.\n",
        "\n",
        "Then outputs results including total portfolio metrics and individual stock allocations and details."
      ],
      "metadata": {
        "id": "_GdqIWLcCQNl"
      }
    },
    {
      "cell_type": "code",
      "source": [
        "class PortfolioOptimizer(PortfolioOptimizer):\n",
        "\n",
        "    # optimize the portfolio\n",
        "    def optimize_portfolio(self):\n",
        "        \"\"\"Optimize the portfolio based on preferences and constraints.\"\"\"\n",
        "        # ensure data and constraints are set up\n",
        "        self.extract_data()\n",
        "        self.setup_constraints()\n",
        "\n",
        "        # define the objective function\n",
        "        objective = cp.Maximize(self.returns @ self.w)\n",
        "\n",
        "        # solve the optimization problem\n",
        "        problem = cp.Problem(objective, self.constraints)\n",
        "        problem.solve(solver=cp.GLPK)\n",
        "\n",
        "        # store the solution\n",
        "        self.solution_weights = self.w.value\n",
        "        self.portfolio_metrics = {\n",
        "            'volatility': self.volatilities @ self.solution_weights,\n",
        "            'esg': self.esgs @ self.solution_weights,\n",
        "            'beta': self.betas @ self.solution_weights\n",
        "        }\n",
        "        print(\"Solver Status:\", problem.status)\n",
        "        print(\"Optimal Value:\", problem.value)\n",
        "\n",
        "    # return the portfolio\n",
        "    def get_optimal_portfolio(self):\n",
        "      \"\"\"Retrieve the list of stocks with weights > 0 and display portfolio metrics.\"\"\"\n",
        "\n",
        "      # Compute portfolio metrics\n",
        "      portfolio_volatility = self.volatilities @ self.solution_weights\n",
        "      portfolio_esg = self.esgs @ self.solution_weights\n",
        "      portfolio_beta = self.betas @ self.solution_weights\n",
        "      portfolio_return = self.returns @ self.solution_weights\n",
        "\n",
        "      # Print portfolio metrics\n",
        "      print()\n",
        "      print(f\"Portfolio Return: {portfolio_return:.2f} (Min Return: {self.preferences['total_return']})\")\n",
        "      print(f\"Portfolio Volatility: {portfolio_volatility:.2f} (Max Allowed: {self.preferences['volatility']})\")\n",
        "      print(f\"Portfolio ESG: {portfolio_esg:.2f} (Min Required: {self.preferences['sustainability']})\")\n",
        "      print(f\"Portfolio Beta: {portfolio_beta:.2f} (Range ± 0.05: {self.preferences['beta']})\")\n",
        "      print(\"\\nOptimal Portfolio Allocation:\\n\")\n",
        "\n",
        "      # Print stock details\n",
        "      weights_with_details = [\n",
        "        (\n",
        "            self.df['Name'][i],\n",
        "            self.solution_weights[i],\n",
        "            self.df[self.preferences['time_horizon']].iloc[i],\n",
        "            self.df['ESG'].iloc[i],\n",
        "            self.df['Volatility'].iloc[i],\n",
        "            self.df['Beta'].iloc[i]\n",
        "        )\n",
        "        for i in range(self.n)\n",
        "        if self.solution_weights[i] > 1e-12  # Small threshold to avoid numerical artifacts\n",
        "    ]\n",
        "\n",
        "    # Print header\n",
        "      print(f\"{'Name':<20} {'Weight':<10} {'Return':<10} {'ESG':<10} {'Volatility':<10} {'Beta':<10}\")\n",
        "      print(\"-\" * 70)\n",
        "\n",
        "      # Print table rows\n",
        "      for name, weight, stock_return, esg, volatility, beta in sorted(weights_with_details, key=lambda x: x[1], reverse=True):\n",
        "          print(f\"{name:<20} {weight:<10.6f} {stock_return:<10.2f} {esg:<10.2f} {volatility:<10.2f} {beta:<10.2f}\")"
      ],
      "metadata": {
        "id": "2TDLis1cGn-2"
      },
      "execution_count": null,
      "outputs": []
    },
    {
      "cell_type": "markdown",
      "source": [
        "## Create a final function to return portfolio allocations\n",
        " Returns ideal stock allocation based on preferences as well as the portfolio overview.\n",
        "\n",
        " Preferences are initially set to 'none', allowing the user to be queried for preferences; with query responses, it is unlikely the code will generate an infeasible solution. However, if the user has more specific preferences (e.g., a volatility between 1% and 5% or a higher return preference), they are able to input it as a dictionary; they simply run the risk of creating an impossible set of constraints."
      ],
      "metadata": {
        "id": "3lGvBaE5Lfmb"
      }
    },
    {
      "cell_type": "code",
      "source": [
        "# Put it all together into a function.\n",
        "\n",
        "def get_portfolio(data, preferences=None):\n",
        "  \"\"\"Arguments: data and, if known, preferences. Note that inputting preferences\n",
        "  directly may result in an infeasible portfolio due to conflicting constraints.\n",
        "  If unknown, leave preferences empty, and answer querying preferences.\n",
        "\n",
        "  Returns ideal stock allocation based on preferences as well as the portfolio\n",
        "  overview.\"\"\"\n",
        "  optimizer = PortfolioOptimizer(data, preferences=preferences)\n",
        "  if optimizer.preferences == {}:\n",
        "    optimizer.query_preferences()\n",
        "  optimizer.optimize_portfolio()\n",
        "  portfolio = optimizer.get_optimal_portfolio()\n",
        "  return portfolio"
      ],
      "metadata": {
        "id": "YN78C2liLTtg"
      },
      "execution_count": null,
      "outputs": []
    },
    {
      "cell_type": "markdown",
      "source": [
        "## Simulated scenarios\n",
        "__________\n",
        "\n",
        "**Investor One (Included in Paper):**\n",
        "\n",
        "This investor wants a long term investment that is minimal risk. They care a lot about the environment, and want a porfolio that is not too closely tied to the market to avoid the market's dips and falls. Therefore, in answering the query questions, they answer: long-term, low risk, defensive, and high ESG. This results in a preference dictionary that looks as follows: {'time_horizon': '10yret', 'volatility': 1, 'total_return': 6, 'beta': 0.8, 'sustainability': 6}"
      ],
      "metadata": {
        "id": "s7Ed7_9bd355"
      }
    },
    {
      "cell_type": "code",
      "source": [
        "get_portfolio(data, {'time_horizon': '10yret', 'volatility': 1, 'total_return': 6, 'beta': 0.8, 'sustainability': 6})"
      ],
      "metadata": {
        "colab": {
          "base_uri": "https://localhost:8080/"
        },
        "id": "fcQc3SogdpJm",
        "outputId": "e311449c-e5d8-495a-fc8e-9b115941cc39"
      },
      "execution_count": null,
      "outputs": [
        {
          "output_type": "stream",
          "name": "stdout",
          "text": [
            "Solver Status: optimal\n",
            "Optimal Value: 35.26970276540037\n",
            "\n",
            "Portfolio Return: 35.27 (Min Return: 6)\n",
            "Portfolio Volatility: 1.00 (Max Allowed: 1)\n",
            "Portfolio ESG: 6.00 (Min Required: 6)\n",
            "Portfolio Beta: 0.75 (Range ± 0.05: 0.8)\n",
            "\n",
            "Optimal Portfolio Allocation:\n",
            "\n",
            "Name                 Weight     Return     ESG        Volatility Beta      \n",
            "----------------------------------------------------------------------\n",
            "GABILNEquity         0.100000   70.54      5.55       0.86       0.41      \n",
            "GOO2LNEquity         0.100000   61.71      6.34       1.98       0.80      \n",
            "1AMZLNEquity         0.100000   44.98      5.35       0.95       0.87      \n",
            "AOFLNEquity          0.100000   24.40      6.95       0.57       0.45      \n",
            "DECLNEquity          0.100000   37.62      4.67       1.09       1.30      \n",
            "IGLNLNEquity         0.100000   7.88       6.81       0.24       0.52      \n",
            "SPALLNEquity         0.100000   0.88       6.20       0.65       1.26      \n",
            "EJFILNEquity         0.100000   31.07      5.43       0.34       0.35      \n",
            "GBSLNEquity          0.082736   7.65       6.99       0.67       0.51      \n",
            "1TSLLNEquity         0.067510   65.22      6.39       2.97       1.06      \n",
            "CNEGLNEquity         0.027910   11.54      5.17       0.45       1.03      \n",
            "ADVTLNEquity         0.021844   91.73      5.31       2.89       0.57      \n"
          ]
        }
      ]
    },
    {
      "cell_type": "markdown",
      "source": [
        "**Investor Two:**\n",
        "\n",
        "This investor is risky and wants a high yield in a short amount of time. They want a portfolio that aggressively follows the market trends and does not care about ESG ratings. In answering the query questions, they answer: short-term, high risk, aggressive, and low ESG. This results in a preference dictionary that looks as follows: {'time_horizon': '1yret', 'volatility': 10, 'total_return': 15, 'beta': 1.2, 'sustainability': 2}\n"
      ],
      "metadata": {
        "id": "57QITKtWeuhG"
      }
    },
    {
      "cell_type": "code",
      "source": [
        "get_portfolio(data, {'time_horizon': '1yret', 'volatility': 10, 'total_return': 15, 'beta': 1.2, 'sustainability': 2})"
      ],
      "metadata": {
        "colab": {
          "base_uri": "https://localhost:8080/"
        },
        "id": "c_djcY24e6te",
        "outputId": "85d3582e-3ca8-40fa-b8b2-a02f035445f3"
      },
      "execution_count": null,
      "outputs": [
        {
          "output_type": "stream",
          "name": "stdout",
          "text": [
            "Solver Status: optimal\n",
            "Optimal Value: 89.86485707811185\n",
            "\n",
            "Portfolio Return: 89.86 (Min Return: 15)\n",
            "Portfolio Volatility: 4.85 (Max Allowed: 10)\n",
            "Portfolio ESG: 4.51 (Min Required: 2)\n",
            "Portfolio Beta: 1.15 (Range ± 0.05: 1.2)\n",
            "\n",
            "Optimal Portfolio Allocation:\n",
            "\n",
            "Name                 Weight     Return     ESG        Volatility Beta      \n",
            "----------------------------------------------------------------------\n",
            "URULNEquity          0.100000   99.62      5.89       9.26       0.95      \n",
            "JUSTLNEquity         0.100000   92.39      3.83       1.35       1.09      \n",
            "OXBLNEquity          0.100000   90.57      2.99       5.59       0.95      \n",
            "CURYLNEquity         0.100000   87.60      5.84       0.83       1.01      \n",
            "GNCLNEquity          0.100000   100.55     5.35       2.14       0.76      \n",
            "TSL2LNEquity         0.100000   71.82      4.91       9.64       1.81      \n",
            "NEXNLNEquity         0.100000   95.72      1.57       5.10       0.82      \n",
            "AQXLNEquity          0.100000   90.76      5.30       3.81       1.08      \n",
            "HOCLNEquity          0.100000   99.44      5.14       4.04       1.34      \n",
            "PYP3LNEquity         0.060087   50.64      5.55       9.52       2.51      \n",
            "CHRTLNEquity         0.039913   99.61      2.38       2.54       0.50      \n"
          ]
        }
      ]
    },
    {
      "cell_type": "markdown",
      "source": [
        "**Investor three:**\n",
        "\n",
        "This investor wants a return within 5 years, and is therefore willing to accept a medium risk and return.\n",
        "\n",
        "They want their portfolio to roughly follow the market, and they care only somewhat about ESG ratings. In answering the query questions, they answer: medium term, medium risk, neutral on the market, and medium ESG. This results in a preference dictionary that looks as follows: {'time_horizon': '5yret', 'volatility': 5, 'total_return': 10, 'beta': 1, 'sustainability': 4}"
      ],
      "metadata": {
        "id": "PB4xDXWbfGeN"
      }
    },
    {
      "cell_type": "code",
      "source": [
        "get_portfolio(data, {'time_horizon': '5yret', 'volatility': 5, 'total_return': 10, 'beta': 1, 'sustainability': 4})"
      ],
      "metadata": {
        "colab": {
          "base_uri": "https://localhost:8080/"
        },
        "id": "Q7dogVebfV8P",
        "outputId": "fdc54f7c-0ce2-45bb-ce22-cebff444878d"
      },
      "execution_count": null,
      "outputs": [
        {
          "output_type": "stream",
          "name": "stdout",
          "text": [
            "Solver Status: optimal\n",
            "Optimal Value: 73.97813880460855\n",
            "\n",
            "Portfolio Return: 73.98 (Min Return: 10)\n",
            "Portfolio Volatility: 5.00 (Max Allowed: 5)\n",
            "Portfolio ESG: 5.74 (Min Required: 4)\n",
            "Portfolio Beta: 0.95 (Range ± 0.05: 1)\n",
            "\n",
            "Optimal Portfolio Allocation:\n",
            "\n",
            "Name                 Weight     Return     ESG        Volatility Beta      \n",
            "----------------------------------------------------------------------\n",
            "1TSLLNEquity         0.100000   65.22      6.39       2.97       1.06      \n",
            "3LALLNEquity         0.100000   76.02      5.36       5.32       0.99      \n",
            "GOO3LNEquity         0.100000   77.18      6.23       5.36       1.03      \n",
            "TSL2LNEquity         0.100000   71.82      4.91       9.64       1.81      \n",
            "ADVTLNEquity         0.100000   91.73      5.31       2.89       0.57      \n",
            "AOFLNEquity          0.100000   67.21      6.95       0.57       0.45      \n",
            "AAP3LNEquity         0.100000   66.96      5.82       4.33       1.03      \n",
            "4BBLNEquity          0.100000   77.66      4.56       4.62       0.51      \n",
            "YU/LNEquity          0.092720   84.56      6.04       8.85       0.67      \n",
            "3LAPLNEquity         0.084556   66.32      5.90       4.66       1.03      \n",
            "PYP3LNEquity         0.022724   50.64      5.55       9.52       2.51      \n"
          ]
        }
      ]
    },
    {
      "cell_type": "markdown",
      "source": [
        "_____________\n",
        "## Try it yourself!\n",
        "\n",
        "Simply input `get_portfolio(data)`, answer the questions, and find your ideal portfolio diversification for stocks in the London Stock Exchange!"
      ],
      "metadata": {
        "id": "7KxV2dh8gCCn"
      }
    },
    {
      "cell_type": "code",
      "source": [
        "get_portfolio(data)"
      ],
      "metadata": {
        "colab": {
          "base_uri": "https://localhost:8080/"
        },
        "id": "uYYgAEr0lIqZ",
        "outputId": "77087b78-8428-456f-f182-16fc0f5fcd22"
      },
      "execution_count": null,
      "outputs": [
        {
          "output_type": "stream",
          "name": "stdout",
          "text": [
            "How long are you planning to hold this portfolio?\n",
            "1: Short-Term (1 year return)\n",
            "2: Medium-Term (5 year return)\n",
            "3: Long-Term (10 year return)\n",
            "Enter your choice (1/2/3): 1\n",
            "How much risk are you comfortable taking?\n",
            "1: Low (1% volatility, >6% return) - Recommended for long term portfolios\n",
            "2: Medium (5% volatility, >10% return) - Recommended for medium term portfolios\n",
            "3: High (10%% volatility, >15% return) - Recommended for short term portfolios\n",
            "Enter your choice (1/2/3): 1\n",
            "How closely do you want your portfolio to follow the market?\n",
            "1: Defensive (Beta < 0.8)\n",
            "2: Neutral (Beta ≈ 1)\n",
            "3: Aggressive (Beta > 1.2)\n",
            "Enter your choice (1/2/3): 3\n",
            "How important is sustainability (ESG rating) in your portfolio, on a scale of 1-10?\n",
            "1: Low (1–3)\n",
            "2: Medium (4–6)\n",
            "3: High (7–10)\n",
            "Enter your choice (1/2/3): 2\n",
            "\n",
            "Your selected preferences:\n",
            "{'time_horizon': '1yret', 'volatility': 1, 'total_return': 6, 'beta': 1.2, 'sustainability': 3}\n",
            "Solver Status: optimal\n",
            "Optimal Value: 57.40196702843824\n",
            "\n",
            "Portfolio Return: 57.40 (Min Return: 6)\n",
            "Portfolio Volatility: 1.00 (Max Allowed: 1)\n",
            "Portfolio ESG: 4.88 (Min Required: 3)\n",
            "Portfolio Beta: 1.15 (Range ± 0.05: 1.2)\n",
            "\n",
            "Optimal Portfolio Allocation:\n",
            "\n",
            "Name                 Weight     Return     ESG        Volatility Beta      \n",
            "----------------------------------------------------------------------\n",
            "MGNSLNEquity         0.100000   84.34      5.29       1.22       0.92      \n",
            "KLRLNEquity          0.100000   70.18      4.42       1.17       1.04      \n",
            "CNELNEquity          0.100000   74.58      6.40       1.10       1.16      \n",
            "DECLNEquity          0.100000   37.62      4.67       1.09       1.30      \n",
            "JUSTLNEquity         0.100000   92.39      3.83       1.35       1.09      \n",
            "MTOLNEquity          0.100000   14.91      4.71       0.19       1.08      \n",
            "CURYLNEquity         0.100000   87.60      5.84       0.83       1.01      \n",
            "DRXLNEquity          0.100000   38.28      5.65       0.60       0.99      \n",
            "GROWLNEquity         0.100000   14.87      3.13       0.66       1.62      \n",
            "DAPPLNEquity         0.052161   29.44      4.32       1.80       1.90      \n",
            "GNCLNEquity          0.033839   100.55     5.35       2.14       0.76      \n",
            "GABILNEquity         0.014000   70.54      5.55       0.86       0.41      \n"
          ]
        }
      ]
    }
  ]
}